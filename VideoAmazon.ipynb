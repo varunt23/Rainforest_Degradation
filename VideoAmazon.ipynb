{
 "cells": [
  {
   "cell_type": "code",
   "execution_count": 2,
   "metadata": {},
   "outputs": [
    {
     "name": "stdout",
     "output_type": "stream",
     "text": [
      "{'type': 'Image', 'bands': [{'id': 'elevation', 'data_type': {'type': 'PixelType', 'precision': 'int', 'min': -32768, 'max': 32767}, 'dimensions': [432000, 144000], 'crs': 'EPSG:4326', 'crs_transform': [0.000833333333333, 0, -180, 0, -0.000833333333333, 60]}], 'version': 1494271934303000.0, 'id': 'srtm90_v4', 'properties': {'system:time_start': 950227200000, 'system:time_end': 951177600000, 'system:asset_size': 18827626666}}\n"
     ]
    }
   ],
   "source": [
    "import ee\n",
    "ee.Initialize()\n",
    "image = ee.Image('srtm90_v4')\n",
    "print(image.getInfo())"
   ]
  },
  {
   "cell_type": "code",
   "execution_count": 3,
   "metadata": {},
   "outputs": [],
   "source": [
    "from ee import batch\n",
    "image = ee.Image('LANDSAT/LC8_L1T/LC80440342014077LGN00').select('B8')\n",
    "landsat = ee.Image('LANDSAT/LC8_L1T_TOA/LC81230322014135LGN00').select(['B4', 'B3', 'B2'])\n",
    "#output the landsat true colour RGB, region defined - Region has to be a nested loop\n",
    "out1 = batch.Export.image.toDrive(landsat, description='out1', region=([116.2621, 39.8412], [116.2621, 40.01236],[116.4849, 40.01236],[116.4849, 39.8412]))\n",
    "canny =  ee.Algorithms.CannyEdgeDetector(image,10,1)\n",
    "out2 = batch.Export.image.toDrive(canny, description='out2', maxPixels=238523062)\n",
    "process = batch.Task.start(out1)\n",
    "process = batch.Task.start(out2)"
   ]
  },
  {
   "cell_type": "code",
   "execution_count": 7,
   "metadata": {},
   "outputs": [
    {
     "ename": "AttributeError",
     "evalue": "'Task' object has no attribute 'image'",
     "output_type": "error",
     "traceback": [
      "\u001b[0;31m---------------------------------------------------------------------------\u001b[0m",
      "\u001b[0;31mAttributeError\u001b[0m                            Traceback (most recent call last)",
      "\u001b[0;32m<ipython-input-7-c4a5a7e1b463>\u001b[0m in \u001b[0;36m<module>\u001b[0;34m\u001b[0m\n\u001b[0;32m----> 1\u001b[0;31m \u001b[0mout2\u001b[0m\u001b[0;34m.\u001b[0m\u001b[0mimage\u001b[0m\u001b[0;34m(\u001b[0m\u001b[0;34m)\u001b[0m\u001b[0;34m\u001b[0m\u001b[0;34m\u001b[0m\u001b[0m\n\u001b[0m",
      "\u001b[0;31mAttributeError\u001b[0m: 'Task' object has no attribute 'image'"
     ]
    }
   ],
   "source": []
  },
  {
   "cell_type": "code",
   "execution_count": 14,
   "metadata": {},
   "outputs": [
    {
     "name": "stdout",
     "output_type": "stream",
     "text": [
      "about to build video\n",
      "process sent to cloud\n"
     ]
    }
   ],
   "source": [
    "## define your collection\n",
    "collection = ee.ImageCollection('LANDSAT/LC8_L1T_TOA')\n",
    "\n",
    "\n",
    "## Above commented out as you might not know the path and row this allows you to pass a coordinate\n",
    "pointamazon = ee.Geometry.Point(-3.4653, -62.2159)\n",
    "pathrow = collection.filterBounds(pointUAE)\n",
    " \n",
    "##Filter cloudy scenes.\n",
    "clouds = pathrow.filter(ee.Filter.lt('CLOUD_COVER', 5))\n",
    "\n",
    "## select the bands, we are going for true colour... but could be any!\n",
    "bands = clouds.select(['B4', 'B3', 'B2'])\n",
    "\n",
    "##make the data 8-bit.\n",
    "def convertBit(image):\n",
    "    return image.multiply(512).uint8()  \n",
    "\n",
    "## call the conversion    \n",
    "outputVideo = bands.map(convertBit)\n",
    "\n",
    "print (\"about to build video\")\n",
    "out = batch.Export.video.toDrive(outputVideo, description='negative_ycoordinates', dimensions = 720, framesPerSecond = 2, region=([-3.3,-61], [-3.3,-63],[-3.5,-61],[-3.5,-63]), maxFrames=10000)\n",
    "\n",
    "## process the image\n",
    "process = batch.Task.start(out)\n",
    "\n",
    "print (\"process sent to cloud\")"
   ]
  }
 ],
 "metadata": {
  "kernelspec": {
   "display_name": "Python 3",
   "language": "python",
   "name": "python3"
  },
  "language_info": {
   "codemirror_mode": {
    "name": "ipython",
    "version": 3
   },
   "file_extension": ".py",
   "mimetype": "text/x-python",
   "name": "python",
   "nbconvert_exporter": "python",
   "pygments_lexer": "ipython3",
   "version": "3.7.6"
  }
 },
 "nbformat": 4,
 "nbformat_minor": 4
}
